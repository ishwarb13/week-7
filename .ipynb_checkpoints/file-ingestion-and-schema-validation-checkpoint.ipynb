{
 "cells": [
  {
   "cell_type": "markdown",
   "id": "c11ced2b",
   "metadata": {
    "papermill": {
     "duration": 0.004987,
     "end_time": "2023-10-11T01:36:20.581586",
     "exception": false,
     "start_time": "2023-10-11T01:36:20.576599",
     "status": "completed"
    },
    "tags": []
   },
   "source": [
    "# File Ingestion and Schema Validation"
   ]
  },
  {
   "cell_type": "markdown",
   "id": "838bcda7",
   "metadata": {
    "papermill": {
     "duration": 0.004134,
     "end_time": "2023-10-11T01:36:20.608052",
     "exception": false,
     "start_time": "2023-10-11T01:36:20.603918",
     "status": "completed"
    },
    "tags": []
   },
   "source": [
    "The utilities python file that includes all of the validation functions and necessary imports."
   ]
  },
  {
   "cell_type": "code",
   "execution_count": 1,
   "id": "e2e71655",
   "metadata": {
    "execution": {
     "iopub.execute_input": "2023-10-11T01:36:20.618125Z",
     "iopub.status.busy": "2023-10-11T01:36:20.617722Z",
     "iopub.status.idle": "2023-10-11T01:36:20.625804Z",
     "shell.execute_reply": "2023-10-11T01:36:20.625273Z"
    },
    "papermill": {
     "duration": 0.015135,
     "end_time": "2023-10-11T01:36:20.627383",
     "exception": false,
     "start_time": "2023-10-11T01:36:20.612248",
     "status": "completed"
    },
    "tags": []
   },
   "outputs": [
    {
     "name": "stdout",
     "output_type": "stream",
     "text": [
      "Writing utilityfile.py\n"
     ]
    }
   ],
   "source": [
    "%%writefile utilityfile.py\n",
    "\n",
    "# necessary imports\n",
    "\n",
    "import logging\n",
    "import os\n",
    "import subprocess\n",
    "import yaml\n",
    "import pandas as pd\n",
    "import datetime\n",
    "import gc\n",
    "import re\n",
    "\n",
    "# file reading\n",
    "\n",
    "def read_config_file(filepath):\n",
    "    with open(filepath, 'r') as stream:\n",
    "        try:\n",
    "            return yaml.safe_load(stream)\n",
    "        except yaml.YAMLError as exc:\n",
    "            logging.error(exc)\n",
    "            \n",
    "# function to replace characters\n",
    "            \n",
    "def replace(string, char):\n",
    "    pattern = char + '{2,}'\n",
    "    string = re.sub(pattern, char, string)\n",
    "    return string\n",
    "\n",
    "# standardizes columns and validates dataframe YAML against validation YAML\n",
    "\n",
    "def col_header_valid(df, table_config):\n",
    "    '''\n",
    "    replace whitespaces in  the columns and \n",
    "    standardize the column names\n",
    "    '''\n",
    "    df.columns = df.columns.str.lower()\n",
    "    df.columns = df.columns.str.replace('[^\\w]','_', regex = True)\n",
    "    df.columns = list(map(lambda x: x.strip('_'), list(df.columns)))\n",
    "    df.columns = list(map(lambda x: replace(x,'_'), list(df.columns)))\n",
    "    expected_col = list(map(lambda x: x.lower(), table_config['columns']))\n",
    "    expected_col.sort()\n",
    "    df.columns = list(map(lambda x: x.lower(), list(df.columns)))\n",
    "    \n",
    "    if len(df.columns) == len(expected_col) and list(expected_col) == list(df.columns):\n",
    "        print(\"Column name and column length validation passed.\")\n",
    "        return 1\n",
    "    else:\n",
    "        print(\"Column name and column length validation failed.\")\n",
    "        mismatched_columns_file = list(set(df.columns).difference(expected_col))\n",
    "        print(\"Following file columns are not in the YAML file\",mismatched_columns_file)\n",
    "        missing_YAML_file = list(set(expected_col).difference(df.columns))\n",
    "        print(\"Following YAML columns are not in the file uploaded\",missing_YAML_file)\n",
    "        logging.info(f'df columns: {df.columns}')\n",
    "        logging.info(f'expected columns: {expected_col}')\n",
    "        return 0"
   ]
  },
  {
   "cell_type": "markdown",
   "id": "c27acdac",
   "metadata": {
    "papermill": {
     "duration": 0.004279,
     "end_time": "2023-10-11T01:36:20.636408",
     "exception": false,
     "start_time": "2023-10-11T01:36:20.632129",
     "status": "completed"
    },
    "tags": []
   },
   "source": [
    "### Write Validation YAML"
   ]
  },
  {
   "cell_type": "markdown",
   "id": "4aae8068",
   "metadata": {
    "papermill": {
     "duration": 0.004211,
     "end_time": "2023-10-11T01:36:20.645150",
     "exception": false,
     "start_time": "2023-10-11T01:36:20.640939",
     "status": "completed"
    },
    "tags": []
   },
   "source": [
    "In order for our validation function to work as intended, we'll need to create a baseline for the columns of incoming files to be tested against. This is where our validation YAML file comes in.<br><br>\n",
    "\n",
    "We can write this file with the following code, specifying the schema and columns we expect:"
   ]
  },
  {
   "cell_type": "code",
   "execution_count": 2,
   "id": "5c37296c",
   "metadata": {
    "execution": {
     "iopub.execute_input": "2023-10-11T01:36:20.655960Z",
     "iopub.status.busy": "2023-10-11T01:36:20.655503Z",
     "iopub.status.idle": "2023-10-11T01:36:20.660274Z",
     "shell.execute_reply": "2023-10-11T01:36:20.658913Z"
    },
    "papermill": {
     "duration": 0.012912,
     "end_time": "2023-10-11T01:36:20.662602",
     "exception": false,
     "start_time": "2023-10-11T01:36:20.649690",
     "status": "completed"
    },
    "tags": []
   },
   "outputs": [
    {
     "name": "stdout",
     "output_type": "stream",
     "text": [
      "Writing validation_yaml.csv\n"
     ]
    }
   ],
   "source": [
    "%%writefile validation_yaml.csv\n",
    "\n",
    "file_type: csv\n",
    "dataset_name: validation\n",
    "file_name: validation_yaml\n",
    "table_name: example\n",
    "inbound_delimiter: \",\"\n",
    "outbound_delimiter: \"|\"\n",
    "skip_leading_rows: 1\n",
    "columns: \n",
    "    - date\n",
    "    - game_size\n",
    "    - match_id\n",
    "    - match_mode\n",
    "    - party_size\n",
    "    - player_assists\n",
    "    - player_dbno\n",
    "    - player_dist_ride\n",
    "    - player_dist_walk\n",
    "    - player_dmg\n",
    "    - player_kills\n",
    "    - player_name\n",
    "    - player_survive_time\n",
    "    - team_id\n",
    "    - team_placement"
   ]
  },
  {
   "cell_type": "markdown",
   "id": "46daba05",
   "metadata": {
    "papermill": {
     "duration": 0.003952,
     "end_time": "2023-10-11T01:36:20.671242",
     "exception": false,
     "start_time": "2023-10-11T01:36:20.667290",
     "status": "completed"
    },
    "tags": []
   },
   "source": [
    "### Write Data YAMLs"
   ]
  },
  {
   "cell_type": "markdown",
   "id": "c1225633",
   "metadata": {
    "papermill": {
     "duration": 0.003907,
     "end_time": "2023-10-11T01:36:20.679643",
     "exception": false,
     "start_time": "2023-10-11T01:36:20.675736",
     "status": "completed"
    },
    "tags": []
   },
   "source": [
    "Now we'll create a validation YAML file to test ingested files against. The YAML file will contain the columns within our dataset, which is what we'll expect everytime a file is ingested within the pipeline."
   ]
  },
  {
   "cell_type": "code",
   "execution_count": 3,
   "id": "4437d27d",
   "metadata": {
    "execution": {
     "iopub.execute_input": "2023-10-11T01:36:20.689188Z",
     "iopub.status.busy": "2023-10-11T01:36:20.688910Z",
     "iopub.status.idle": "2023-10-11T01:36:20.694144Z",
     "shell.execute_reply": "2023-10-11T01:36:20.693412Z"
    },
    "papermill": {
     "duration": 0.011776,
     "end_time": "2023-10-11T01:36:20.695504",
     "exception": false,
     "start_time": "2023-10-11T01:36:20.683728",
     "status": "completed"
    },
    "tags": []
   },
   "outputs": [
    {
     "name": "stdout",
     "output_type": "stream",
     "text": [
      "Writing pubgdata.yaml\n"
     ]
    }
   ],
   "source": [
    "%%writefile pubgdata.yaml\n",
    "\n",
    "file_type: yaml\n",
    "dataset_name: pubg_agg_match\n",
    "file_name: pubg_agg_match_stats_0\n",
    "table_name: ast\n",
    "inbound_delimiter: ','\n",
    "outbound_delimiter: '|'\n",
    "skip_leading_rows: 1\n",
    "columns: \n",
    "    - date\n",
    "    - game_size\n",
    "    - match_id\n",
    "    - match_mode\n",
    "    - party_size\n",
    "    - player_assists\n",
    "    - player_dbno\n",
    "    - player_dist_ride\n",
    "    - player_dist_walk\n",
    "    - player_dmg\n",
    "    - player_kills\n",
    "    - player_name\n",
    "    - player_survive_time\n",
    "    - team_id\n",
    "    - team_placement"
   ]
  },
  {
   "cell_type": "code",
   "execution_count": 4,
   "id": "3149f081",
   "metadata": {
    "execution": {
     "iopub.execute_input": "2023-10-11T01:36:20.705291Z",
     "iopub.status.busy": "2023-10-11T01:36:20.704966Z",
     "iopub.status.idle": "2023-10-11T01:36:20.984819Z",
     "shell.execute_reply": "2023-10-11T01:36:20.983834Z"
    },
    "papermill": {
     "duration": 0.287107,
     "end_time": "2023-10-11T01:36:20.986806",
     "exception": false,
     "start_time": "2023-10-11T01:36:20.699699",
     "status": "completed"
    },
    "tags": []
   },
   "outputs": [],
   "source": [
    "# read configuration (validation) file\n",
    "\n",
    "import utilityfile as util\n",
    "\n",
    "config_data = util.read_config_file(\"validation_yaml.csv\")"
   ]
  },
  {
   "cell_type": "code",
   "execution_count": 5,
   "id": "08c96b4a",
   "metadata": {
    "execution": {
     "iopub.execute_input": "2023-10-11T01:36:20.997141Z",
     "iopub.status.busy": "2023-10-11T01:36:20.996702Z",
     "iopub.status.idle": "2023-10-11T01:36:21.003077Z",
     "shell.execute_reply": "2023-10-11T01:36:21.002280Z"
    },
    "papermill": {
     "duration": 0.013136,
     "end_time": "2023-10-11T01:36:21.004652",
     "exception": false,
     "start_time": "2023-10-11T01:36:20.991516",
     "status": "completed"
    },
    "tags": []
   },
   "outputs": [
    {
     "data": {
      "text/plain": [
       "'csv'"
      ]
     },
     "execution_count": 5,
     "metadata": {},
     "output_type": "execute_result"
    }
   ],
   "source": [
    "config_data['file_type']"
   ]
  },
  {
   "cell_type": "code",
   "execution_count": 6,
   "id": "17303ef6",
   "metadata": {
    "execution": {
     "iopub.execute_input": "2023-10-11T01:36:21.016227Z",
     "iopub.status.busy": "2023-10-11T01:36:21.015718Z",
     "iopub.status.idle": "2023-10-11T01:36:21.020845Z",
     "shell.execute_reply": "2023-10-11T01:36:21.019922Z"
    },
    "papermill": {
     "duration": 0.012777,
     "end_time": "2023-10-11T01:36:21.022597",
     "exception": false,
     "start_time": "2023-10-11T01:36:21.009820",
     "status": "completed"
    },
    "tags": []
   },
   "outputs": [
    {
     "data": {
      "text/plain": [
       "'validation_yaml'"
      ]
     },
     "execution_count": 6,
     "metadata": {},
     "output_type": "execute_result"
    }
   ],
   "source": [
    "config_data['file_name']"
   ]
  },
  {
   "cell_type": "code",
   "execution_count": 7,
   "id": "86857e1e",
   "metadata": {
    "execution": {
     "iopub.execute_input": "2023-10-11T01:36:21.034305Z",
     "iopub.status.busy": "2023-10-11T01:36:21.034004Z",
     "iopub.status.idle": "2023-10-11T01:36:21.038980Z",
     "shell.execute_reply": "2023-10-11T01:36:21.038238Z"
    },
    "papermill": {
     "duration": 0.012945,
     "end_time": "2023-10-11T01:36:21.040498",
     "exception": false,
     "start_time": "2023-10-11T01:36:21.027553",
     "status": "completed"
    },
    "tags": []
   },
   "outputs": [
    {
     "data": {
      "text/plain": [
       "{'file_type': 'csv',\n",
       " 'dataset_name': 'validation',\n",
       " 'file_name': 'validation_yaml',\n",
       " 'table_name': 'example',\n",
       " 'inbound_delimiter': ',',\n",
       " 'outbound_delimiter': '|',\n",
       " 'skip_leading_rows': 1,\n",
       " 'columns': ['date',\n",
       "  'game_size',\n",
       "  'match_id',\n",
       "  'match_mode',\n",
       "  'party_size',\n",
       "  'player_assists',\n",
       "  'player_dbno',\n",
       "  'player_dist_ride',\n",
       "  'player_dist_walk',\n",
       "  'player_dmg',\n",
       "  'player_kills',\n",
       "  'player_name',\n",
       "  'player_survive_time',\n",
       "  'team_id',\n",
       "  'team_placement']}"
      ]
     },
     "execution_count": 7,
     "metadata": {},
     "output_type": "execute_result"
    }
   ],
   "source": [
    "# inspecting data of validation file\n",
    "\n",
    "config_data"
   ]
  },
  {
   "cell_type": "markdown",
   "id": "7dea161b",
   "metadata": {
    "papermill": {
     "duration": 0.004558,
     "end_time": "2023-10-11T01:36:21.050149",
     "exception": false,
     "start_time": "2023-10-11T01:36:21.045591",
     "status": "completed"
    },
    "tags": []
   },
   "source": [
    "Next comes the actual ingestion of a file. In order to more closely simulate a data pipeline, we will ingest a file over 4GB in size.<br><br>\n",
    "\n",
    "When we begin to consider a large, constant influx of data in our pipeline, we begin to understand the importance of processing times with regards to file reading. Though most files read by conventional pandas processes suffice speed requirements for files under 1GB, in a data pipeline we could be expecting several Gigabytes of data to be loaded at once.<br><br>\n",
    "\n",
    "This is where libraries like Dask come in handy. Dask is a parallel processing library within Python that allows workloads to be distributed across multiple cores (and even multiple pay-as-you-go machines should the scaling of your processes require it). This drastically reduces the processing times of large files such as the one below."
   ]
  },
  {
   "cell_type": "code",
   "execution_count": 8,
   "id": "67c5db49",
   "metadata": {
    "execution": {
     "iopub.execute_input": "2023-10-11T01:36:21.061937Z",
     "iopub.status.busy": "2023-10-11T01:36:21.061213Z",
     "iopub.status.idle": "2023-10-11T01:37:17.581552Z",
     "shell.execute_reply": "2023-10-11T01:37:17.580318Z"
    },
    "papermill": {
     "duration": 56.532035,
     "end_time": "2023-10-11T01:37:17.587137",
     "exception": false,
     "start_time": "2023-10-11T01:36:21.055102",
     "status": "completed"
    },
    "tags": []
   },
   "outputs": [
    {
     "name": "stdout",
     "output_type": "stream",
     "text": [
      "CPU times: user 22.6 s, sys: 4.12 s, total: 26.7 s\n",
      "Wall time: 56.5 s\n"
     ]
    },
    {
     "data": {
      "text/html": [
       "<div>\n",
       "<style scoped>\n",
       "    .dataframe tbody tr th:only-of-type {\n",
       "        vertical-align: middle;\n",
       "    }\n",
       "\n",
       "    .dataframe tbody tr th {\n",
       "        vertical-align: top;\n",
       "    }\n",
       "\n",
       "    .dataframe thead th {\n",
       "        text-align: right;\n",
       "    }\n",
       "</style>\n",
       "<table border=\"1\" class=\"dataframe\">\n",
       "  <thead>\n",
       "    <tr style=\"text-align: right;\">\n",
       "      <th></th>\n",
       "      <th>date</th>\n",
       "      <th>game_size</th>\n",
       "      <th>match_id</th>\n",
       "      <th>match_mode</th>\n",
       "      <th>party_size</th>\n",
       "      <th>player_assists</th>\n",
       "      <th>player_dbno</th>\n",
       "      <th>player_dist_ride</th>\n",
       "      <th>player_dist_walk</th>\n",
       "      <th>player_dmg</th>\n",
       "      <th>player_kills</th>\n",
       "      <th>player_name</th>\n",
       "      <th>player_survive_time</th>\n",
       "      <th>team_id</th>\n",
       "      <th>team_placement</th>\n",
       "    </tr>\n",
       "  </thead>\n",
       "  <tbody>\n",
       "    <tr>\n",
       "      <th>0</th>\n",
       "      <td>2017-11-26T20:59:40+0000</td>\n",
       "      <td>37</td>\n",
       "      <td>2U4GBNA0YmnNZYkzjkfgN4ev-hXSrak_BSey_YEG6kIuDG...</td>\n",
       "      <td>tpp</td>\n",
       "      <td>2</td>\n",
       "      <td>0</td>\n",
       "      <td>1</td>\n",
       "      <td>2870.72400</td>\n",
       "      <td>1784.847780</td>\n",
       "      <td>117</td>\n",
       "      <td>1</td>\n",
       "      <td>SnuffIes</td>\n",
       "      <td>1106.320</td>\n",
       "      <td>4</td>\n",
       "      <td>18</td>\n",
       "    </tr>\n",
       "    <tr>\n",
       "      <th>1</th>\n",
       "      <td>2017-11-26T20:59:40+0000</td>\n",
       "      <td>37</td>\n",
       "      <td>2U4GBNA0YmnNZYkzjkfgN4ev-hXSrak_BSey_YEG6kIuDG...</td>\n",
       "      <td>tpp</td>\n",
       "      <td>2</td>\n",
       "      <td>0</td>\n",
       "      <td>1</td>\n",
       "      <td>2938.40723</td>\n",
       "      <td>1756.079710</td>\n",
       "      <td>127</td>\n",
       "      <td>1</td>\n",
       "      <td>Ozon3r</td>\n",
       "      <td>1106.315</td>\n",
       "      <td>4</td>\n",
       "      <td>18</td>\n",
       "    </tr>\n",
       "    <tr>\n",
       "      <th>2</th>\n",
       "      <td>2017-11-26T20:59:40+0000</td>\n",
       "      <td>37</td>\n",
       "      <td>2U4GBNA0YmnNZYkzjkfgN4ev-hXSrak_BSey_YEG6kIuDG...</td>\n",
       "      <td>tpp</td>\n",
       "      <td>2</td>\n",
       "      <td>0</td>\n",
       "      <td>0</td>\n",
       "      <td>0.00000</td>\n",
       "      <td>224.157562</td>\n",
       "      <td>67</td>\n",
       "      <td>0</td>\n",
       "      <td>bovize</td>\n",
       "      <td>235.558</td>\n",
       "      <td>5</td>\n",
       "      <td>33</td>\n",
       "    </tr>\n",
       "    <tr>\n",
       "      <th>3</th>\n",
       "      <td>2017-11-26T20:59:40+0000</td>\n",
       "      <td>37</td>\n",
       "      <td>2U4GBNA0YmnNZYkzjkfgN4ev-hXSrak_BSey_YEG6kIuDG...</td>\n",
       "      <td>tpp</td>\n",
       "      <td>2</td>\n",
       "      <td>0</td>\n",
       "      <td>0</td>\n",
       "      <td>0.00000</td>\n",
       "      <td>92.935150</td>\n",
       "      <td>0</td>\n",
       "      <td>0</td>\n",
       "      <td>sbahn87</td>\n",
       "      <td>197.553</td>\n",
       "      <td>5</td>\n",
       "      <td>33</td>\n",
       "    </tr>\n",
       "    <tr>\n",
       "      <th>4</th>\n",
       "      <td>2017-11-26T20:59:40+0000</td>\n",
       "      <td>37</td>\n",
       "      <td>2U4GBNA0YmnNZYkzjkfgN4ev-hXSrak_BSey_YEG6kIuDG...</td>\n",
       "      <td>tpp</td>\n",
       "      <td>2</td>\n",
       "      <td>0</td>\n",
       "      <td>0</td>\n",
       "      <td>2619.07739</td>\n",
       "      <td>2510.447000</td>\n",
       "      <td>175</td>\n",
       "      <td>2</td>\n",
       "      <td>GeminiZZZ</td>\n",
       "      <td>1537.495</td>\n",
       "      <td>14</td>\n",
       "      <td>11</td>\n",
       "    </tr>\n",
       "  </tbody>\n",
       "</table>\n",
       "</div>"
      ],
      "text/plain": [
       "                       date  game_size  \\\n",
       "0  2017-11-26T20:59:40+0000         37   \n",
       "1  2017-11-26T20:59:40+0000         37   \n",
       "2  2017-11-26T20:59:40+0000         37   \n",
       "3  2017-11-26T20:59:40+0000         37   \n",
       "4  2017-11-26T20:59:40+0000         37   \n",
       "\n",
       "                                            match_id match_mode  party_size  \\\n",
       "0  2U4GBNA0YmnNZYkzjkfgN4ev-hXSrak_BSey_YEG6kIuDG...        tpp           2   \n",
       "1  2U4GBNA0YmnNZYkzjkfgN4ev-hXSrak_BSey_YEG6kIuDG...        tpp           2   \n",
       "2  2U4GBNA0YmnNZYkzjkfgN4ev-hXSrak_BSey_YEG6kIuDG...        tpp           2   \n",
       "3  2U4GBNA0YmnNZYkzjkfgN4ev-hXSrak_BSey_YEG6kIuDG...        tpp           2   \n",
       "4  2U4GBNA0YmnNZYkzjkfgN4ev-hXSrak_BSey_YEG6kIuDG...        tpp           2   \n",
       "\n",
       "   player_assists  player_dbno  player_dist_ride  player_dist_walk  \\\n",
       "0               0            1        2870.72400       1784.847780   \n",
       "1               0            1        2938.40723       1756.079710   \n",
       "2               0            0           0.00000        224.157562   \n",
       "3               0            0           0.00000         92.935150   \n",
       "4               0            0        2619.07739       2510.447000   \n",
       "\n",
       "   player_dmg  player_kills player_name  player_survive_time  team_id  \\\n",
       "0         117             1    SnuffIes             1106.320        4   \n",
       "1         127             1      Ozon3r             1106.315        4   \n",
       "2          67             0      bovize              235.558        5   \n",
       "3           0             0     sbahn87              197.553        5   \n",
       "4         175             2   GeminiZZZ             1537.495       14   \n",
       "\n",
       "   team_placement  \n",
       "0              18  \n",
       "1              18  \n",
       "2              33  \n",
       "3              33  \n",
       "4              11  "
      ]
     },
     "execution_count": 8,
     "metadata": {},
     "output_type": "execute_result"
    }
   ],
   "source": [
    "%%time\n",
    "\n",
    "import pandas as pd\n",
    "\n",
    "df_sample = pd.read_csv(\"/kaggle/input/pubg-match-deaths/aggregate/agg_match_stats_0.csv\", delimiter = ',')\n",
    "df_sample.head()"
   ]
  },
  {
   "cell_type": "markdown",
   "id": "d9ac1068",
   "metadata": {
    "papermill": {
     "duration": 0.004182,
     "end_time": "2023-10-11T01:37:17.595856",
     "exception": false,
     "start_time": "2023-10-11T01:37:17.591674",
     "status": "completed"
    },
    "tags": []
   },
   "source": [
    "While running the previous code on my laptop, the CPU total time was 40.5 seconds for a single 4GB file. The wall time clocked in at 48.1 seconds."
   ]
  },
  {
   "cell_type": "code",
   "execution_count": 9,
   "id": "3cef419e",
   "metadata": {
    "execution": {
     "iopub.execute_input": "2023-10-11T01:37:17.606136Z",
     "iopub.status.busy": "2023-10-11T01:37:17.605874Z",
     "iopub.status.idle": "2023-10-11T01:37:19.613430Z",
     "shell.execute_reply": "2023-10-11T01:37:19.612746Z"
    },
    "papermill": {
     "duration": 2.01447,
     "end_time": "2023-10-11T01:37:19.614757",
     "exception": false,
     "start_time": "2023-10-11T01:37:17.600287",
     "status": "completed"
    },
    "tags": []
   },
   "outputs": [
    {
     "name": "stdout",
     "output_type": "stream",
     "text": [
      "CPU times: user 1.32 s, sys: 536 ms, total: 1.86 s\n",
      "Wall time: 1.99 s\n"
     ]
    },
    {
     "data": {
      "text/html": [
       "<div>\n",
       "<style scoped>\n",
       "    .dataframe tbody tr th:only-of-type {\n",
       "        vertical-align: middle;\n",
       "    }\n",
       "\n",
       "    .dataframe tbody tr th {\n",
       "        vertical-align: top;\n",
       "    }\n",
       "\n",
       "    .dataframe thead th {\n",
       "        text-align: right;\n",
       "    }\n",
       "</style>\n",
       "<table border=\"1\" class=\"dataframe\">\n",
       "  <thead>\n",
       "    <tr style=\"text-align: right;\">\n",
       "      <th></th>\n",
       "      <th>date</th>\n",
       "      <th>game_size</th>\n",
       "      <th>match_id</th>\n",
       "      <th>match_mode</th>\n",
       "      <th>party_size</th>\n",
       "      <th>player_assists</th>\n",
       "      <th>player_dbno</th>\n",
       "      <th>player_dist_ride</th>\n",
       "      <th>player_dist_walk</th>\n",
       "      <th>player_dmg</th>\n",
       "      <th>player_kills</th>\n",
       "      <th>player_name</th>\n",
       "      <th>player_survive_time</th>\n",
       "      <th>team_id</th>\n",
       "      <th>team_placement</th>\n",
       "    </tr>\n",
       "  </thead>\n",
       "  <tbody>\n",
       "    <tr>\n",
       "      <th>0</th>\n",
       "      <td>2017-11-26T20:59:40+0000</td>\n",
       "      <td>37</td>\n",
       "      <td>2U4GBNA0YmnNZYkzjkfgN4ev-hXSrak_BSey_YEG6kIuDG...</td>\n",
       "      <td>tpp</td>\n",
       "      <td>2</td>\n",
       "      <td>0</td>\n",
       "      <td>1</td>\n",
       "      <td>2870.72400</td>\n",
       "      <td>1784.847780</td>\n",
       "      <td>117</td>\n",
       "      <td>1</td>\n",
       "      <td>SnuffIes</td>\n",
       "      <td>1106.320</td>\n",
       "      <td>4</td>\n",
       "      <td>18</td>\n",
       "    </tr>\n",
       "    <tr>\n",
       "      <th>1</th>\n",
       "      <td>2017-11-26T20:59:40+0000</td>\n",
       "      <td>37</td>\n",
       "      <td>2U4GBNA0YmnNZYkzjkfgN4ev-hXSrak_BSey_YEG6kIuDG...</td>\n",
       "      <td>tpp</td>\n",
       "      <td>2</td>\n",
       "      <td>0</td>\n",
       "      <td>1</td>\n",
       "      <td>2938.40723</td>\n",
       "      <td>1756.079710</td>\n",
       "      <td>127</td>\n",
       "      <td>1</td>\n",
       "      <td>Ozon3r</td>\n",
       "      <td>1106.315</td>\n",
       "      <td>4</td>\n",
       "      <td>18</td>\n",
       "    </tr>\n",
       "    <tr>\n",
       "      <th>2</th>\n",
       "      <td>2017-11-26T20:59:40+0000</td>\n",
       "      <td>37</td>\n",
       "      <td>2U4GBNA0YmnNZYkzjkfgN4ev-hXSrak_BSey_YEG6kIuDG...</td>\n",
       "      <td>tpp</td>\n",
       "      <td>2</td>\n",
       "      <td>0</td>\n",
       "      <td>0</td>\n",
       "      <td>0.00000</td>\n",
       "      <td>224.157562</td>\n",
       "      <td>67</td>\n",
       "      <td>0</td>\n",
       "      <td>bovize</td>\n",
       "      <td>235.558</td>\n",
       "      <td>5</td>\n",
       "      <td>33</td>\n",
       "    </tr>\n",
       "    <tr>\n",
       "      <th>3</th>\n",
       "      <td>2017-11-26T20:59:40+0000</td>\n",
       "      <td>37</td>\n",
       "      <td>2U4GBNA0YmnNZYkzjkfgN4ev-hXSrak_BSey_YEG6kIuDG...</td>\n",
       "      <td>tpp</td>\n",
       "      <td>2</td>\n",
       "      <td>0</td>\n",
       "      <td>0</td>\n",
       "      <td>0.00000</td>\n",
       "      <td>92.935150</td>\n",
       "      <td>0</td>\n",
       "      <td>0</td>\n",
       "      <td>sbahn87</td>\n",
       "      <td>197.553</td>\n",
       "      <td>5</td>\n",
       "      <td>33</td>\n",
       "    </tr>\n",
       "    <tr>\n",
       "      <th>4</th>\n",
       "      <td>2017-11-26T20:59:40+0000</td>\n",
       "      <td>37</td>\n",
       "      <td>2U4GBNA0YmnNZYkzjkfgN4ev-hXSrak_BSey_YEG6kIuDG...</td>\n",
       "      <td>tpp</td>\n",
       "      <td>2</td>\n",
       "      <td>0</td>\n",
       "      <td>0</td>\n",
       "      <td>2619.07739</td>\n",
       "      <td>2510.447000</td>\n",
       "      <td>175</td>\n",
       "      <td>2</td>\n",
       "      <td>GeminiZZZ</td>\n",
       "      <td>1537.495</td>\n",
       "      <td>14</td>\n",
       "      <td>11</td>\n",
       "    </tr>\n",
       "  </tbody>\n",
       "</table>\n",
       "</div>"
      ],
      "text/plain": [
       "                       date  game_size  \\\n",
       "0  2017-11-26T20:59:40+0000         37   \n",
       "1  2017-11-26T20:59:40+0000         37   \n",
       "2  2017-11-26T20:59:40+0000         37   \n",
       "3  2017-11-26T20:59:40+0000         37   \n",
       "4  2017-11-26T20:59:40+0000         37   \n",
       "\n",
       "                                            match_id match_mode  party_size  \\\n",
       "0  2U4GBNA0YmnNZYkzjkfgN4ev-hXSrak_BSey_YEG6kIuDG...        tpp           2   \n",
       "1  2U4GBNA0YmnNZYkzjkfgN4ev-hXSrak_BSey_YEG6kIuDG...        tpp           2   \n",
       "2  2U4GBNA0YmnNZYkzjkfgN4ev-hXSrak_BSey_YEG6kIuDG...        tpp           2   \n",
       "3  2U4GBNA0YmnNZYkzjkfgN4ev-hXSrak_BSey_YEG6kIuDG...        tpp           2   \n",
       "4  2U4GBNA0YmnNZYkzjkfgN4ev-hXSrak_BSey_YEG6kIuDG...        tpp           2   \n",
       "\n",
       "   player_assists  player_dbno  player_dist_ride  player_dist_walk  \\\n",
       "0               0            1        2870.72400       1784.847780   \n",
       "1               0            1        2938.40723       1756.079710   \n",
       "2               0            0           0.00000        224.157562   \n",
       "3               0            0           0.00000         92.935150   \n",
       "4               0            0        2619.07739       2510.447000   \n",
       "\n",
       "   player_dmg  player_kills player_name  player_survive_time  team_id  \\\n",
       "0         117             1    SnuffIes             1106.320        4   \n",
       "1         127             1      Ozon3r             1106.315        4   \n",
       "2          67             0      bovize              235.558        5   \n",
       "3           0             0     sbahn87              197.553        5   \n",
       "4         175             2   GeminiZZZ             1537.495       14   \n",
       "\n",
       "   team_placement  \n",
       "0              18  \n",
       "1              18  \n",
       "2              33  \n",
       "3              33  \n",
       "4              11  "
      ]
     },
     "execution_count": 9,
     "metadata": {},
     "output_type": "execute_result"
    }
   ],
   "source": [
    "%%time\n",
    "\n",
    "import dask.dataframe as dd\n",
    "\n",
    "ddf = dd.read_csv(\"/kaggle/input/pubg-match-deaths/aggregate/agg_match_stats_0.csv\", delimiter = ',')\n",
    "ddf.head()"
   ]
  },
  {
   "cell_type": "markdown",
   "id": "fd753d3d",
   "metadata": {
    "papermill": {
     "duration": 0.00452,
     "end_time": "2023-10-11T01:37:19.624318",
     "exception": false,
     "start_time": "2023-10-11T01:37:19.619798",
     "status": "completed"
    },
    "tags": []
   },
   "source": [
    "Performing the same task with Dask's parallel processing had a CPU time of 2 seconds flat; a 90% reduction in processing time. The wall time was also significantly lower at 3.26 seconds.<br><br>\n",
    "\n",
    "We can perform the data ingestion and subsequent validation even faster if we utilize Dask's \"lazy\" dataframes. These dataframes return the datatypes and column names without loading any actual data; that is, until we perform a computation or request to view it."
   ]
  },
  {
   "cell_type": "code",
   "execution_count": 10,
   "id": "d3da3ba1",
   "metadata": {
    "execution": {
     "iopub.execute_input": "2023-10-11T01:37:19.635583Z",
     "iopub.status.busy": "2023-10-11T01:37:19.634951Z",
     "iopub.status.idle": "2023-10-11T01:37:24.543357Z",
     "shell.execute_reply": "2023-10-11T01:37:24.542252Z"
    },
    "papermill": {
     "duration": 4.916194,
     "end_time": "2023-10-11T01:37:24.545191",
     "exception": false,
     "start_time": "2023-10-11T01:37:19.628997",
     "status": "completed"
    },
    "tags": []
   },
   "outputs": [
    {
     "name": "stdout",
     "output_type": "stream",
     "text": [
      "CPU times: user 13.8 ms, sys: 1.95 ms, total: 15.7 ms\n",
      "Wall time: 4.88 s\n"
     ]
    },
    {
     "data": {
      "text/html": [
       "<div><strong>Dask DataFrame Structure:</strong></div>\n",
       "<div>\n",
       "<style scoped>\n",
       "    .dataframe tbody tr th:only-of-type {\n",
       "        vertical-align: middle;\n",
       "    }\n",
       "\n",
       "    .dataframe tbody tr th {\n",
       "        vertical-align: top;\n",
       "    }\n",
       "\n",
       "    .dataframe thead th {\n",
       "        text-align: right;\n",
       "    }\n",
       "</style>\n",
       "<table border=\"1\" class=\"dataframe\">\n",
       "  <thead>\n",
       "    <tr style=\"text-align: right;\">\n",
       "      <th></th>\n",
       "      <th>date</th>\n",
       "      <th>game_size</th>\n",
       "      <th>match_id</th>\n",
       "      <th>match_mode</th>\n",
       "      <th>party_size</th>\n",
       "      <th>player_assists</th>\n",
       "      <th>player_dbno</th>\n",
       "      <th>player_dist_ride</th>\n",
       "      <th>player_dist_walk</th>\n",
       "      <th>player_dmg</th>\n",
       "      <th>player_kills</th>\n",
       "      <th>player_name</th>\n",
       "      <th>player_survive_time</th>\n",
       "      <th>team_id</th>\n",
       "      <th>team_placement</th>\n",
       "    </tr>\n",
       "    <tr>\n",
       "      <th>npartitions=33</th>\n",
       "      <th></th>\n",
       "      <th></th>\n",
       "      <th></th>\n",
       "      <th></th>\n",
       "      <th></th>\n",
       "      <th></th>\n",
       "      <th></th>\n",
       "      <th></th>\n",
       "      <th></th>\n",
       "      <th></th>\n",
       "      <th></th>\n",
       "      <th></th>\n",
       "      <th></th>\n",
       "      <th></th>\n",
       "      <th></th>\n",
       "    </tr>\n",
       "  </thead>\n",
       "  <tbody>\n",
       "    <tr>\n",
       "      <th></th>\n",
       "      <td>object</td>\n",
       "      <td>int64</td>\n",
       "      <td>object</td>\n",
       "      <td>object</td>\n",
       "      <td>int64</td>\n",
       "      <td>int64</td>\n",
       "      <td>int64</td>\n",
       "      <td>float64</td>\n",
       "      <td>float64</td>\n",
       "      <td>int64</td>\n",
       "      <td>int64</td>\n",
       "      <td>object</td>\n",
       "      <td>float64</td>\n",
       "      <td>int64</td>\n",
       "      <td>int64</td>\n",
       "    </tr>\n",
       "    <tr>\n",
       "      <th></th>\n",
       "      <td>...</td>\n",
       "      <td>...</td>\n",
       "      <td>...</td>\n",
       "      <td>...</td>\n",
       "      <td>...</td>\n",
       "      <td>...</td>\n",
       "      <td>...</td>\n",
       "      <td>...</td>\n",
       "      <td>...</td>\n",
       "      <td>...</td>\n",
       "      <td>...</td>\n",
       "      <td>...</td>\n",
       "      <td>...</td>\n",
       "      <td>...</td>\n",
       "      <td>...</td>\n",
       "    </tr>\n",
       "    <tr>\n",
       "      <th>...</th>\n",
       "      <td>...</td>\n",
       "      <td>...</td>\n",
       "      <td>...</td>\n",
       "      <td>...</td>\n",
       "      <td>...</td>\n",
       "      <td>...</td>\n",
       "      <td>...</td>\n",
       "      <td>...</td>\n",
       "      <td>...</td>\n",
       "      <td>...</td>\n",
       "      <td>...</td>\n",
       "      <td>...</td>\n",
       "      <td>...</td>\n",
       "      <td>...</td>\n",
       "      <td>...</td>\n",
       "    </tr>\n",
       "    <tr>\n",
       "      <th></th>\n",
       "      <td>...</td>\n",
       "      <td>...</td>\n",
       "      <td>...</td>\n",
       "      <td>...</td>\n",
       "      <td>...</td>\n",
       "      <td>...</td>\n",
       "      <td>...</td>\n",
       "      <td>...</td>\n",
       "      <td>...</td>\n",
       "      <td>...</td>\n",
       "      <td>...</td>\n",
       "      <td>...</td>\n",
       "      <td>...</td>\n",
       "      <td>...</td>\n",
       "      <td>...</td>\n",
       "    </tr>\n",
       "    <tr>\n",
       "      <th></th>\n",
       "      <td>...</td>\n",
       "      <td>...</td>\n",
       "      <td>...</td>\n",
       "      <td>...</td>\n",
       "      <td>...</td>\n",
       "      <td>...</td>\n",
       "      <td>...</td>\n",
       "      <td>...</td>\n",
       "      <td>...</td>\n",
       "      <td>...</td>\n",
       "      <td>...</td>\n",
       "      <td>...</td>\n",
       "      <td>...</td>\n",
       "      <td>...</td>\n",
       "      <td>...</td>\n",
       "    </tr>\n",
       "  </tbody>\n",
       "</table>\n",
       "</div>\n",
       "<div>Dask Name: read-csv, 1 graph layer</div>"
      ],
      "text/plain": [
       "Dask DataFrame Structure:\n",
       "                  date game_size match_id match_mode party_size player_assists player_dbno player_dist_ride player_dist_walk player_dmg player_kills player_name player_survive_time team_id team_placement\n",
       "npartitions=33                                                                                                                                                                                             \n",
       "                object     int64   object     object      int64          int64       int64          float64          float64      int64        int64      object             float64   int64          int64\n",
       "                   ...       ...      ...        ...        ...            ...         ...              ...              ...        ...          ...         ...                 ...     ...            ...\n",
       "...                ...       ...      ...        ...        ...            ...         ...              ...              ...        ...          ...         ...                 ...     ...            ...\n",
       "                   ...       ...      ...        ...        ...            ...         ...              ...              ...        ...          ...         ...                 ...     ...            ...\n",
       "                   ...       ...      ...        ...        ...            ...         ...              ...              ...        ...          ...         ...                 ...     ...            ...\n",
       "Dask Name: read-csv, 1 graph layer"
      ]
     },
     "execution_count": 10,
     "metadata": {},
     "output_type": "execute_result"
    }
   ],
   "source": [
    "%%time\n",
    "\n",
    "test_ddf = dd.read_csv(\"/kaggle/input/pubg-match-deaths/aggregate/agg_match_stats_0.csv\", delimiter = ',')\n",
    "test_ddf"
   ]
  },
  {
   "cell_type": "markdown",
   "id": "955a7583",
   "metadata": {
    "papermill": {
     "duration": 0.006379,
     "end_time": "2023-10-11T01:37:24.557773",
     "exception": false,
     "start_time": "2023-10-11T01:37:24.551394",
     "status": "completed"
    },
    "tags": []
   },
   "source": [
    "Performing the code above on my laptop returned a CPU total time of 0 nanoseconds and a wall time of 17.8 milliseconds."
   ]
  },
  {
   "cell_type": "code",
   "execution_count": 11,
   "id": "3c6fe656",
   "metadata": {
    "execution": {
     "iopub.execute_input": "2023-10-11T01:37:24.572307Z",
     "iopub.status.busy": "2023-10-11T01:37:24.571681Z",
     "iopub.status.idle": "2023-10-11T01:37:24.577250Z",
     "shell.execute_reply": "2023-10-11T01:37:24.576402Z"
    },
    "papermill": {
     "duration": 0.015164,
     "end_time": "2023-10-11T01:37:24.579298",
     "exception": false,
     "start_time": "2023-10-11T01:37:24.564134",
     "status": "completed"
    },
    "tags": []
   },
   "outputs": [
    {
     "data": {
      "text/plain": [
       "Index(['date', 'game_size', 'match_id', 'match_mode', 'party_size',\n",
       "       'player_assists', 'player_dbno', 'player_dist_ride', 'player_dist_walk',\n",
       "       'player_dmg', 'player_kills', 'player_name', 'player_survive_time',\n",
       "       'team_id', 'team_placement'],\n",
       "      dtype='object')"
      ]
     },
     "execution_count": 11,
     "metadata": {},
     "output_type": "execute_result"
    }
   ],
   "source": [
    "test_ddf.columns"
   ]
  },
  {
   "cell_type": "markdown",
   "id": "ae32209f",
   "metadata": {
    "papermill": {
     "duration": 0.005941,
     "end_time": "2023-10-11T01:37:24.591955",
     "exception": false,
     "start_time": "2023-10-11T01:37:24.586014",
     "status": "completed"
    },
    "tags": []
   },
   "source": [
    "Dask dataframes support most pandas functions as well. Above we check the column names just as we might in pandas."
   ]
  },
  {
   "cell_type": "markdown",
   "id": "82275d45",
   "metadata": {
    "papermill": {
     "duration": 0.005786,
     "end_time": "2023-10-11T01:37:24.604063",
     "exception": false,
     "start_time": "2023-10-11T01:37:24.598277",
     "status": "completed"
    },
    "tags": []
   },
   "source": [
    "In an actual pipeline, we might also want to make the reading of the files dynamic. We can do so by creating several variables for the parts of a file directory:\n",
    "- directory/\n",
    "- config_data['file_name']\n",
    "- f'.{file_type}'"
   ]
  },
  {
   "cell_type": "markdown",
   "id": "027e264e",
   "metadata": {
    "papermill": {
     "duration": 0.005959,
     "end_time": "2023-10-11T01:37:24.616284",
     "exception": false,
     "start_time": "2023-10-11T01:37:24.610325",
     "status": "completed"
    },
    "tags": []
   },
   "source": [
    "Then we would simply add all three parts together within a variable, and perform dd.read_csv(final_variable) to get the desired result. Due to the limitations of local directories within Kaggle, we will have to omit this process in practice."
   ]
  },
  {
   "cell_type": "code",
   "execution_count": 12,
   "id": "f277e7dd",
   "metadata": {
    "execution": {
     "iopub.execute_input": "2023-10-11T01:37:24.630615Z",
     "iopub.status.busy": "2023-10-11T01:37:24.630083Z",
     "iopub.status.idle": "2023-10-11T01:37:24.642842Z",
     "shell.execute_reply": "2023-10-11T01:37:24.641792Z"
    },
    "papermill": {
     "duration": 0.02219,
     "end_time": "2023-10-11T01:37:24.644659",
     "exception": false,
     "start_time": "2023-10-11T01:37:24.622469",
     "status": "completed"
    },
    "tags": []
   },
   "outputs": [
    {
     "name": "stdout",
     "output_type": "stream",
     "text": [
      "Column name and column length validation passed.\n"
     ]
    },
    {
     "data": {
      "text/plain": [
       "1"
      ]
     },
     "execution_count": 12,
     "metadata": {},
     "output_type": "execute_result"
    }
   ],
   "source": [
    "# validate the header of the file\n",
    "\n",
    "util.col_header_valid(ddf,config_data)"
   ]
  },
  {
   "cell_type": "markdown",
   "id": "599e323b",
   "metadata": {
    "papermill": {
     "duration": 0.006111,
     "end_time": "2023-10-11T01:37:24.657303",
     "exception": false,
     "start_time": "2023-10-11T01:37:24.651192",
     "status": "completed"
    },
    "tags": []
   },
   "source": [
    "We can see that our validation file correctly validated the file with the expected columns. Let's see how it handles files with some irrelevant data."
   ]
  },
  {
   "cell_type": "code",
   "execution_count": 13,
   "id": "806cbe86",
   "metadata": {
    "execution": {
     "iopub.execute_input": "2023-10-11T01:37:24.719603Z",
     "iopub.status.busy": "2023-10-11T01:37:24.719295Z",
     "iopub.status.idle": "2023-10-11T01:37:24.732545Z",
     "shell.execute_reply": "2023-10-11T01:37:24.731953Z"
    },
    "papermill": {
     "duration": 0.021852,
     "end_time": "2023-10-11T01:37:24.733741",
     "exception": false,
     "start_time": "2023-10-11T01:37:24.711889",
     "status": "completed"
    },
    "tags": []
   },
   "outputs": [
    {
     "data": {
      "text/html": [
       "<div>\n",
       "<style scoped>\n",
       "    .dataframe tbody tr th:only-of-type {\n",
       "        vertical-align: middle;\n",
       "    }\n",
       "\n",
       "    .dataframe tbody tr th {\n",
       "        vertical-align: top;\n",
       "    }\n",
       "\n",
       "    .dataframe thead th {\n",
       "        text-align: right;\n",
       "    }\n",
       "</style>\n",
       "<table border=\"1\" class=\"dataframe\">\n",
       "  <thead>\n",
       "    <tr style=\"text-align: right;\">\n",
       "      <th></th>\n",
       "      <th>city</th>\n",
       "      <th>age</th>\n",
       "      <th>Country</th>\n",
       "    </tr>\n",
       "  </thead>\n",
       "  <tbody>\n",
       "    <tr>\n",
       "      <th>0</th>\n",
       "      <td>Delhi</td>\n",
       "      <td>34</td>\n",
       "      <td>India</td>\n",
       "    </tr>\n",
       "    <tr>\n",
       "      <th>1</th>\n",
       "      <td>Lima</td>\n",
       "      <td>30</td>\n",
       "      <td>Peru</td>\n",
       "    </tr>\n",
       "    <tr>\n",
       "      <th>2</th>\n",
       "      <td>Istanbul</td>\n",
       "      <td>16</td>\n",
       "      <td>Turkey</td>\n",
       "    </tr>\n",
       "    <tr>\n",
       "      <th>3</th>\n",
       "      <td>Riyadh</td>\n",
       "      <td>33</td>\n",
       "      <td>Saudi Arabia</td>\n",
       "    </tr>\n",
       "  </tbody>\n",
       "</table>\n",
       "</div>"
      ],
      "text/plain": [
       "       city  age       Country\n",
       "0     Delhi   34         India\n",
       "1      Lima   30          Peru\n",
       "2  Istanbul   16        Turkey\n",
       "3    Riyadh   33  Saudi Arabia"
      ]
     },
     "execution_count": 13,
     "metadata": {},
     "output_type": "execute_result"
    }
   ],
   "source": [
    "import pandas as pd\n",
    "\n",
    "invalid = pd.read_csv(\"/kaggle/input/validation-test-invalid-data/test_data (1).csv\")\n",
    "invalid"
   ]
  },
  {
   "cell_type": "code",
   "execution_count": 14,
   "id": "6b20f4a5",
   "metadata": {
    "execution": {
     "iopub.execute_input": "2023-10-11T01:37:24.748158Z",
     "iopub.status.busy": "2023-10-11T01:37:24.747714Z",
     "iopub.status.idle": "2023-10-11T01:37:24.754382Z",
     "shell.execute_reply": "2023-10-11T01:37:24.753365Z"
    },
    "papermill": {
     "duration": 0.016198,
     "end_time": "2023-10-11T01:37:24.756271",
     "exception": false,
     "start_time": "2023-10-11T01:37:24.740073",
     "status": "completed"
    },
    "tags": []
   },
   "outputs": [
    {
     "name": "stdout",
     "output_type": "stream",
     "text": [
      "Column name and column length validation failed.\n",
      "Following file columns are not in the YAML file ['age', 'city', 'country']\n",
      "Following YAML columns are not in the file uploaded ['player_dist_walk', 'match_id', 'date', 'player_assists', 'match_mode', 'player_dist_ride', 'team_id', 'player_name', 'player_dbno', 'player_dmg', 'player_survive_time', 'team_placement', 'party_size', 'game_size', 'player_kills']\n"
     ]
    },
    {
     "data": {
      "text/plain": [
       "0"
      ]
     },
     "execution_count": 14,
     "metadata": {},
     "output_type": "execute_result"
    }
   ],
   "source": [
    "util.col_header_valid(invalid, config_data)"
   ]
  },
  {
   "cell_type": "markdown",
   "id": "f37fa63e",
   "metadata": {
    "papermill": {
     "duration": 0.006401,
     "end_time": "2023-10-11T01:37:24.769564",
     "exception": false,
     "start_time": "2023-10-11T01:37:24.763163",
     "status": "completed"
    },
    "tags": []
   },
   "source": [
    "As expected, the function returns with a failure. Below that message, we see the differences in columns between the two YAML files."
   ]
  },
  {
   "cell_type": "markdown",
   "id": "b7bbf379",
   "metadata": {
    "papermill": {
     "duration": 0.006183,
     "end_time": "2023-10-11T01:37:24.782188",
     "exception": false,
     "start_time": "2023-10-11T01:37:24.776005",
     "status": "completed"
    },
    "tags": []
   },
   "source": [
    "Knowing that the validation functions work as intended, we can write an if statement to direct files to separate locations depending on whether they passed validation. For instance, we can send files that passed to a directory for further cleaning and manipulation, and direct files that failed to their own separate folder for reinspection."
   ]
  },
  {
   "cell_type": "code",
   "execution_count": 15,
   "id": "a2fdcd19",
   "metadata": {
    "execution": {
     "iopub.execute_input": "2023-10-11T01:37:24.796365Z",
     "iopub.status.busy": "2023-10-11T01:37:24.796103Z",
     "iopub.status.idle": "2023-10-11T01:37:24.808505Z",
     "shell.execute_reply": "2023-10-11T01:37:24.807765Z"
    },
    "papermill": {
     "duration": 0.02181,
     "end_time": "2023-10-11T01:37:24.810296",
     "exception": false,
     "start_time": "2023-10-11T01:37:24.788486",
     "status": "completed"
    },
    "tags": []
   },
   "outputs": [
    {
     "name": "stdout",
     "output_type": "stream",
     "text": [
      "Column name and column length validation passed.\n",
      "Column validation passed.\n"
     ]
    }
   ],
   "source": [
    "if util.col_header_valid(ddf,config_data) == 0:\n",
    "    print(\"Validation failed.\")\n",
    "    # write code to reject the file\n",
    "else:\n",
    "    print(\"Column validation passed.\")\n",
    "    # write code to perform further action\n",
    "    # in the pipeline"
   ]
  },
  {
   "cell_type": "markdown",
   "id": "aa99a123",
   "metadata": {
    "papermill": {
     "duration": 0.006035,
     "end_time": "2023-10-11T01:37:24.823700",
     "exception": false,
     "start_time": "2023-10-11T01:37:24.817665",
     "status": "completed"
    },
    "tags": []
   },
   "source": [
    "We might also want to write the ingested file's columns to a text file. We can do that with the following:"
   ]
  },
  {
   "cell_type": "code",
   "execution_count": 16,
   "id": "2d94fc16",
   "metadata": {
    "execution": {
     "iopub.execute_input": "2023-10-11T01:37:24.838076Z",
     "iopub.status.busy": "2023-10-11T01:37:24.837629Z",
     "iopub.status.idle": "2023-10-11T01:37:24.842779Z",
     "shell.execute_reply": "2023-10-11T01:37:24.841503Z"
    },
    "papermill": {
     "duration": 0.014397,
     "end_time": "2023-10-11T01:37:24.844795",
     "exception": false,
     "start_time": "2023-10-11T01:37:24.830398",
     "status": "completed"
    },
    "tags": []
   },
   "outputs": [],
   "source": [
    "import csv\n",
    "\n",
    "columns = ddf.columns\n",
    "with open(\"output.txt\", \"w\", newline=\"\") as out:\n",
    "    writer = csv.writer(out, delimiter=\"|\")\n",
    "    writer.writerow(columns)"
   ]
  },
  {
   "cell_type": "markdown",
   "id": "394a7a8f",
   "metadata": {
    "papermill": {
     "duration": 0.005587,
     "end_time": "2023-10-11T01:37:24.856827",
     "exception": false,
     "start_time": "2023-10-11T01:37:24.851240",
     "status": "completed"
    },
    "tags": []
   },
   "source": [
    "To finish off, we'll summarize the shape of the ingested file with two simple commands."
   ]
  },
  {
   "cell_type": "code",
   "execution_count": 17,
   "id": "a649f863",
   "metadata": {
    "execution": {
     "iopub.execute_input": "2023-10-11T01:37:24.871148Z",
     "iopub.status.busy": "2023-10-11T01:37:24.869768Z",
     "iopub.status.idle": "2023-10-11T01:37:50.069026Z",
     "shell.execute_reply": "2023-10-11T01:37:50.067671Z"
    },
    "papermill": {
     "duration": 25.210868,
     "end_time": "2023-10-11T01:37:50.073161",
     "exception": false,
     "start_time": "2023-10-11T01:37:24.862293",
     "status": "completed"
    },
    "tags": []
   },
   "outputs": [
    {
     "name": "stdout",
     "output_type": "stream",
     "text": [
      "There are 13849287 rows in the PUBG Player Stats 00 dataset.\n",
      "There are 15 columns in the PUBG Player Stats 00 dataset.\n"
     ]
    }
   ],
   "source": [
    "# file summary\n",
    "\n",
    "print('There are',ddf.shape[0].compute(),'rows in the PUBG Player Stats 00 dataset.')\n",
    "print('There are',len(ddf.columns),'columns in the PUBG Player Stats 00 dataset.')"
   ]
  }
 ],
 "metadata": {
  "kernelspec": {
   "display_name": "Python 3 (ipykernel)",
   "language": "python",
   "name": "python3"
  },
  "language_info": {
   "codemirror_mode": {
    "name": "ipython",
    "version": 3
   },
   "file_extension": ".py",
   "mimetype": "text/x-python",
   "name": "python",
   "nbconvert_exporter": "python",
   "pygments_lexer": "ipython3",
   "version": "3.9.13"
  },
  "papermill": {
   "default_parameters": {},
   "duration": 93.418364,
   "end_time": "2023-10-11T01:37:51.508518",
   "environment_variables": {},
   "exception": null,
   "input_path": "__notebook__.ipynb",
   "output_path": "__notebook__.ipynb",
   "parameters": {},
   "start_time": "2023-10-11T01:36:18.090154",
   "version": "2.4.0"
  }
 },
 "nbformat": 4,
 "nbformat_minor": 5
}
